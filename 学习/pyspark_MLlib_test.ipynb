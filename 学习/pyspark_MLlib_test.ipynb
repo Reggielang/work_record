{
 "cells": [
  {
   "cell_type": "code",
   "execution_count": null,
   "metadata": {},
   "outputs": [],
   "source": [
    "#k-means\n",
    "#spark.mllib实现包含称为kmeans的k-means++方法的并行变体。\n",
    "# 实现中有以下参数：spark.mllib\n",
    "# k是期望的簇的数量。\n",
    "# maxIterations是要运行的最大迭代次数。\n",
    "# initializationModel指定随机初始化或通过k-means 进行初始化。\n",
    "# runs是运行k-means算法的次数（k-means不能保证找到全局最优解，并且在给定数据集上运行多次时，算法返回最佳聚类结果）。\n",
    "# initializationSteps确定k-means算法中的步数。\n",
    "# epsilon决定了我们认为k-means已经收敛的距离阈值。\n",
    "# initialModel是用于初始化的一组可选集群中心。如果提供此参数，则只执行一次运行。"
   ]
  }
 ],
 "metadata": {
  "kernelspec": {
   "display_name": "Python 3",
   "language": "python",
   "name": "python3"
  },
  "language_info": {
   "codemirror_mode": {
    "name": "ipython",
    "version": 3
   },
   "file_extension": ".py",
   "mimetype": "text/x-python",
   "name": "python",
   "nbconvert_exporter": "python",
   "pygments_lexer": "ipython3",
   "version": "3.7.4"
  }
 },
 "nbformat": 4,
 "nbformat_minor": 2
}

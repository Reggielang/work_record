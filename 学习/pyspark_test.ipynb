{
 "cells": [
  {
   "cell_type": "code",
   "execution_count": 1,
   "metadata": {},
   "outputs": [
    {
     "name": "stdout",
     "output_type": "stream",
     "text": [
      "+---+-------+-----------+\n",
      "| id|user_id|date_placed|\n",
      "+---+-------+-----------+\n",
      "+---+-------+-----------+\n",
      "\n"
     ]
    }
   ],
   "source": [
    "#单机测试\n",
    "# -*- coding:utf-8 -*-\n",
    "from pyspark import SparkContext, SparkConf\n",
    "from pyspark.sql import SQLContext\n",
    "import numpy as np\n",
    "\n",
    "\n",
    "from pyspark.sql import SQLContext\n",
    "from pyspark import SparkConf,SparkContext\n",
    " \n",
    "masterurl='local'\n",
    "conf = SparkConf().setAppName(\"miniProject\").setMaster(masterurl).set(\"spark.sql.execution.arrow.enabled\", \"true\")\n",
    "sc = SparkContext.getOrCreate(conf)\n",
    "sql_context = SQLContext(sc)\n",
    "url=\"jdbc:mysql://localhost:3306/shopbox\"\n",
    "driver= 'com.mysql.cj.jdbc.Driver'\n",
    "user='root'\n",
    "password='123456'\n",
    "table='cart'\n",
    "properties = {\"user\":user,\"password\":password}\n",
    "df = sql_context.read.jdbc(url=url, table=table, properties=properties)\n",
    "df.show()\n",
    "sc.stop()"
   ]
  },
  {
   "cell_type": "code",
   "execution_count": 1,
   "metadata": {},
   "outputs": [
    {
     "name": "stdout",
     "output_type": "stream",
     "text": [
      "+---------------+---------------+----------------+------+----------+------+----------+------+------+------+------+------+------+------+---------+--------------+------+------+------+----------+------+------+------+----------+------+----------+------+----------+-------------------+-------------------+-----------+------+----------+--------+--------+------+----------+------+------+------+------+------+------+--------------+-------------------+------+------+---------+\n",
      "|         ACC200|         AAC001|          ACC201|ACC202|ACC202_DSC|ACC203|ACC203_DSC|ACC204|ACC205|ACC206|ACC207|ACC208|ACC20A|ACC209|   ACA111|        ACA112|ACB216|ACC034|YCB213|YCB213_DSC|ACB215|ACB217|ACC217|ACC217_DSC|AAC011|AAC011_DSC|AAC004|AAC004_DSC|             AAE043|             AAE044| ACC034_DSC|ACC035|ACC035_DSC|ACC034_L|ACC034_H|AAE045|AAE045_DSC|YAE482|YAE481|YAE485|YAE483|AAE011|YAE116|        AAE017|             AAE036|YAE486|AAE163|   YAB003|\n",
      "+---------------+---------------+----------------+------+----------+------+----------+------+------+------+------+------+------+------+---------+--------------+------+------+------+----------+------+------+------+----------+------+----------+------+----------+-------------------+-------------------+-----------+------+----------+--------+--------+------+----------+------+------+------+------+------+------+--------------+-------------------+------+------+---------+\n",
      "|100000000020580|  5111110095853|       我的简历1|     1|      公开|     0|      默认|     0|     1|     0|     0|     0|     1|  null|  5039900|畜牧业生产人员|  null|  null|  null|      null|  null|  null|  null|      null|  null|      null|     1|      null|2018-08-10 14:58:25|2018-08-10 14:58:25|       null|  null|      null|    null|    null|     1|        是|  null|  null|  null|  null|张洁红|888176|51111120000001|2018-08-10 14:58:25|     0|  null|     null|\n",
      "|100000000020582|  5111990136270|个人基础信息新增|     0|      null|     0|      null|     0|     0|     0|     0|     0|     0|  null|     null|          null|  null|  null|  null|      null|  null|  null|  null|      null|    14|      null|     2|      null|2018-08-10 14:59:23|2018-08-10 14:59:23|       null|  null|      null|    null|    null|  null|      null|  null|  null|  null|  null|  null|  null|          null|               null|  null|  null|     null|\n",
      "|100000000020584|  5111020175050|       我的简历1|     1|      公开|     1|      默认|     0|     1|     0|     0|     0|     1|  null|     null|          null|  null|  null|  null|      null|  null|  null|  null|      null|    90|      null|     2|      null|2018-08-10 15:04:07|2018-08-10 15:04:07|       null|  null|      null|    null|    null|     1|        是|  null|  null|  null|  null|谭淑群|871884|51110000000001|2018-08-10 15:04:07|     0|  null|     null|\n",
      "|100000000020585|  5111130004420|个人基础信息新增|     0|      null|     0|      null|     0|     0|     0|     0|     0|     0|  null|     null|          null|  null|  null|  null|      null|  null|  null|  null|      null|    80|      null|     1|      null|2018-08-10 15:05:52|2018-08-10 15:05:52|       null|  null|      null|    null|    null|  null|      null|  null|  null|  null|  null|  null|  null|          null|               null|  null|  null|     null|\n",
      "|100000000020589|  5111110167822|       我的简历1|     1|      公开|     1|      默认|     0|     1|     0|     0|     0|     1|  null|  6231100|          电工|  null|  null|  null|      null|  null|  null|  null|      null|  null|      null|     1|      null|2018-08-10 15:16:48|2018-08-10 15:16:48|       null|  null|      null|    null|    null|     1|        是|  null|  null|  null|  null|张洁红|888176|51111120000001|2018-08-10 15:16:48|     0|  null|     null|\n",
      "|100000000021287|  5111110163484|个人基础信息新增|     0|      null|     0|      null|     0|     0|     0|     0|     0|     0|  null|     null|          null|  null|  null|  null|      null|  null|  null|  null|      null|    71|      null|     2|      null|2018-08-15 14:44:07|2018-08-15 14:44:07|       null|  null|      null|    null|    null|  null|      null|  null|  null|  null|  null|  null|  null|          null|               null|  null|  null|     null|\n",
      "|100000000021288|  5111991176392|个人基础信息新增|     0|      null|     0|      null|     0|     0|     0|     0|     0|     0|  null|     null|          null|  null|  null|  null|      null|  null|  null|  null|      null|    80|      null|     1|      null|2018-08-15 14:44:22|2018-08-15 14:44:22|       null|  null|      null|    null|    null|  null|      null|  null|  null|  null|  null|  null|  null|          null|               null|  null|  null|     null|\n",
      "|100000000021289|  5111120001222|个人基础信息新增|     0|      null|     0|      null|     0|     0|     0|     0|     0|     0|  null|     null|          null|  null|  null|  null|      null|  null|  null|  null|      null|    60|      null|     1|      null|2018-08-15 14:45:17|2018-08-15 14:45:17|       null|  null|      null|    null|    null|  null|      null|  null|  null|  null|  null|  null|  null|          null|               null|  null|  null|     null|\n",
      "|100000000021290|  5111991177173|个人基础信息新增|     0|      null|     0|      null|     0|     0|     0|     0|     0|     0|  null|     null|          null|  null|  null|  null|      null|  null|  null|  null|      null|    80|      null|     1|      null|2018-08-15 14:45:25|2018-08-15 14:45:25|       null|  null|      null|    null|    null|  null|      null|  null|  null|  null|  null|  null|  null|          null|               null|  null|  null|     null|\n",
      "|100000000021292| 51111123100183|个人基础信息新增|     0|      null|     0|      null|     0|     0|     0|     0|     0|     0|  null|     null|          null|  null|  null|  null|      null|  null|  null|  null|      null|    80|      null|     2|      null|2018-08-15 14:46:35|2018-08-15 14:46:35|       null|  null|      null|    null|    null|  null|      null|  null|  null|  null|  null|  null|  null|          null|               null|  null|  null|     null|\n",
      "|100000000006000|100000000014550|        我的简历|     0|      null|     0|      null|     0|     0|     0|     0|     0|     0|  null|     null|      销售主管|  null|  null|  null|      null|  null|  null|  null|      null|  null|      不限|  null|      null|2018-05-11 11:07:36|2018-05-11 11:07:36|2000-5000元|  null|      null|    null|    null|  null|      null|  null|  null|  null|  null|  null|  null|          null|               null|  null|  null|511100000|\n",
      "|100000000018314|  5111230279361|       我的简历1|     1|      公开|     0|      默认|     0|     1|     0|     0|     0|     1|  null|703000009|  农村实用技术|  null|  null|  null|      null|  null|  null|  null|      null|  null|      null|     1|      null|2018-07-30 15:46:36|2018-07-30 15:46:36|       null|  null|      null|    null|    null|     1|        是|  null|  null|  null|  null|  石宇|887804|51112310900001|2018-07-30 15:46:36|     0|  null|     null|\n",
      "|100000000018319|  5111230277959|       我的简历1|     1|      公开|     1|      默认|     0|     1|     0|     0|     0|     1|  null|703000009|  农村实用技术|  null|  null|  null|      null|  null|  null|  null|      null|  null|      null|     2|      null|2018-07-30 15:52:08|2018-07-30 15:52:08|       null|  null|      null|    null|    null|     1|        是|  null|  null|  null|  null|  石宇|887804|51112310900001|2018-07-30 15:52:08|     0|  null|     null|\n",
      "|100000000018324|   511123543023|       我的简历1|     1|      公开|     1|      默认|     0|     1|     0|     0|     0|     1|  null|703000009|  农村实用技术|  null|  null|  null|      null|  null|  null|  null|      null|  null|      null|     2|      null|2018-07-30 15:55:29|2018-07-30 15:55:29|       null|  null|      null|    null|    null|     1|        是|  null|  null|  null|  null|  石宇|887804|51112310900001|2018-07-30 15:55:29|     0|  null|     null|\n",
      "|100000000018327|   511102484860|个人基础信息新增|     0|      null|     0|      null|     0|     0|     0|     0|     0|     0|  null|     null|          null|  null|  null|  null|      null|  null|  null|  null|      null|    20|      null|     2|      null|2018-07-30 15:58:02|2018-07-30 15:58:02|       null|  null|      null|    null|    null|  null|      null|  null|  null|  null|  null|  null|  null|          null|               null|  null|  null|     null|\n",
      "|100000000018328|100000000028904|个人基础信息新增|     0|      null|     0|      null|     0|     0|     0|     0|     0|     0|  null|     null|          null|  null|  null|  null|      null|  null|  null|  null|      null|    30|      null|     2|      null|2018-07-30 15:58:23|2018-07-30 15:58:23|       null|  null|      null|    null|    null|  null|      null|  null|  null|  null|  null|  null|  null|          null|               null|  null|  null|     null|\n",
      "|100000000018330|  5111230007781|个人基础信息新增|     0|      null|     0|      null|     0|     0|     0|     0|     0|     0|  null|     null|          null|  null|  null|  null|      null|  null|  null|  null|      null|    90|      null|     1|      null|2018-07-30 15:58:47|2018-07-30 15:58:47|       null|  null|      null|    null|    null|  null|      null|  null|  null|  null|  null|  null|  null|          null|               null|  null|  null|     null|\n",
      "|100000000018467|  5111110060001|个人基础信息新增|     0|      null|     0|      null|     0|     0|     0|     0|     0|     0|  null|     null|          null|  null|  null|  null|      null|  null|  null|  null|      null|    60|      null|     2|      null|2018-07-31 14:42:11|2018-07-31 14:42:11|       null|  null|      null|    null|    null|  null|      null|  null|  null|  null|  null|  null|  null|          null|               null|  null|  null|     null|\n",
      "|100000000018469|   511111640097|个人基础信息新增|     0|      null|     0|      null|     0|     0|     0|     0|     0|     0|  null|     null|          null|  null|  null|  null|      null|  null|  null|  null|      null|    60|      null|     1|      null|2018-07-31 14:50:57|2018-07-31 14:50:57|       null|  null|      null|    null|    null|  null|      null|  null|  null|  null|  null|  null|  null|          null|               null|  null|  null|     null|\n",
      "|100000000018470|  5111110069038|个人基础信息新增|     0|      null|     0|      null|     0|     0|     0|     0|     0|     0|  null|  6000000|          null|  null|  null|  null|      null|  null|  null|  null|      null|    90|      null|     2|      null|2018-07-31 14:51:11|2018-07-31 14:51:11|       null|  null|      null|    null|    null|  null|      null|  null|  null|  null|  null|  null|  null|          null|               null|  null|  null|     null|\n",
      "+---------------+---------------+----------------+------+----------+------+----------+------+------+------+------+------+------+------+---------+--------------+------+------+------+----------+------+------+------+----------+------+----------+------+----------+-------------------+-------------------+-----------+------+----------+--------+--------+------+----------+------+------+------+------+------+------+--------------+-------------------+------+------+---------+\n",
      "only showing top 20 rows\n",
      "\n"
     ]
    }
   ],
   "source": [
    "#服务器测试\n",
    "# -*- coding:utf-8 -*-\n",
    "from pyspark import SparkContext, SparkConf\n",
    "from pyspark.sql import SQLContext\n",
    "import numpy as np\n",
    "\n",
    "\n",
    "appName = \"jhl_spark_1\"  # 你的应用程序名称\n",
    "master = \"local\"  # 设置单机\n",
    "conf = SparkConf().setAppName(appName).setMaster(master)  # 配置SparkContext\n",
    "sc = SparkContext(conf=conf)\n",
    "sqlContext = SQLContext(sc)\n",
    "url='jdbc:oracle:thin:@192.168.26.220:1521/EE'\n",
    "tablename=\"cc20\"\n",
    "properties={\"user\": \"scjy\", \"password\": \"scjy\"}\n",
    "df=sqlContext.read.jdbc(url=url,table=tablename,properties=properties)\n",
    "df.show()\n",
    "# #注册为表，然后在SQL语句中使用\n",
    "# df.registerTempTable(\"cc20\")\n",
    "# #SQL可以在已注册为表的RDDS上运行\n",
    "# df2=sqlContext.sql(\"select * from cc20\")\n",
    "sc.stop()"
   ]
  },
  {
   "cell_type": "code",
   "execution_count": null,
   "metadata": {},
   "outputs": [],
   "source": []
  },
  {
   "cell_type": "code",
   "execution_count": null,
   "metadata": {},
   "outputs": [],
   "source": []
  },
  {
   "cell_type": "code",
   "execution_count": 13,
   "metadata": {},
   "outputs": [],
   "source": []
  },
  {
   "cell_type": "code",
   "execution_count": null,
   "metadata": {},
   "outputs": [],
   "source": []
  },
  {
   "cell_type": "code",
   "execution_count": null,
   "metadata": {},
   "outputs": [],
   "source": []
  }
 ],
 "metadata": {
  "kernelspec": {
   "display_name": "Python 3",
   "language": "python",
   "name": "python3"
  },
  "language_info": {
   "codemirror_mode": {
    "name": "ipython",
    "version": 3
   },
   "file_extension": ".py",
   "mimetype": "text/x-python",
   "name": "python",
   "nbconvert_exporter": "python",
   "pygments_lexer": "ipython3",
   "version": "3.7.4"
  }
 },
 "nbformat": 4,
 "nbformat_minor": 2
}

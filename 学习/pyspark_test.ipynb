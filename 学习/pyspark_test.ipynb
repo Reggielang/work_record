{
 "cells": [
  {
   "cell_type": "code",
   "execution_count": 1,
   "metadata": {},
   "outputs": [
    {
     "ename": "Exception",
     "evalue": "Java gateway process exited before sending its port number",
     "output_type": "error",
     "traceback": [
      "\u001b[1;31m---------------------------------------------------------------------------\u001b[0m",
      "\u001b[1;31mException\u001b[0m                                 Traceback (most recent call last)",
      "\u001b[1;32m<ipython-input-1-c5c3c1895094>\u001b[0m in \u001b[0;36m<module>\u001b[1;34m\u001b[0m\n\u001b[0;32m     11\u001b[0m \u001b[0mmasterurl\u001b[0m\u001b[1;33m=\u001b[0m\u001b[1;34m'local'\u001b[0m\u001b[1;33m\u001b[0m\u001b[1;33m\u001b[0m\u001b[0m\n\u001b[0;32m     12\u001b[0m \u001b[0mconf\u001b[0m \u001b[1;33m=\u001b[0m \u001b[0mSparkConf\u001b[0m\u001b[1;33m(\u001b[0m\u001b[1;33m)\u001b[0m\u001b[1;33m.\u001b[0m\u001b[0msetAppName\u001b[0m\u001b[1;33m(\u001b[0m\u001b[1;34m\"miniProject\"\u001b[0m\u001b[1;33m)\u001b[0m\u001b[1;33m.\u001b[0m\u001b[0msetMaster\u001b[0m\u001b[1;33m(\u001b[0m\u001b[0mmasterurl\u001b[0m\u001b[1;33m)\u001b[0m\u001b[1;33m.\u001b[0m\u001b[0mset\u001b[0m\u001b[1;33m(\u001b[0m\u001b[1;34m\"spark.sql.execution.arrow.enabled\"\u001b[0m\u001b[1;33m,\u001b[0m \u001b[1;34m\"true\"\u001b[0m\u001b[1;33m)\u001b[0m\u001b[1;33m\u001b[0m\u001b[1;33m\u001b[0m\u001b[0m\n\u001b[1;32m---> 13\u001b[1;33m \u001b[0msc\u001b[0m \u001b[1;33m=\u001b[0m \u001b[0mSparkContext\u001b[0m\u001b[1;33m.\u001b[0m\u001b[0mgetOrCreate\u001b[0m\u001b[1;33m(\u001b[0m\u001b[0mconf\u001b[0m\u001b[1;33m)\u001b[0m\u001b[1;33m\u001b[0m\u001b[1;33m\u001b[0m\u001b[0m\n\u001b[0m\u001b[0;32m     14\u001b[0m \u001b[0msql_context\u001b[0m \u001b[1;33m=\u001b[0m \u001b[0mSQLContext\u001b[0m\u001b[1;33m(\u001b[0m\u001b[0msc\u001b[0m\u001b[1;33m)\u001b[0m\u001b[1;33m\u001b[0m\u001b[1;33m\u001b[0m\u001b[0m\n\u001b[0;32m     15\u001b[0m \u001b[0murl\u001b[0m\u001b[1;33m=\u001b[0m\u001b[1;34m\"jdbc:mysql://localhost:3306/shopbox\"\u001b[0m\u001b[1;33m\u001b[0m\u001b[1;33m\u001b[0m\u001b[0m\n",
      "\u001b[1;32mC:\\ProgramData\\Anaconda3\\lib\\site-packages\\pyspark\\context.py\u001b[0m in \u001b[0;36mgetOrCreate\u001b[1;34m(cls, conf)\u001b[0m\n\u001b[0;32m    365\u001b[0m         \u001b[1;32mwith\u001b[0m \u001b[0mSparkContext\u001b[0m\u001b[1;33m.\u001b[0m\u001b[0m_lock\u001b[0m\u001b[1;33m:\u001b[0m\u001b[1;33m\u001b[0m\u001b[1;33m\u001b[0m\u001b[0m\n\u001b[0;32m    366\u001b[0m             \u001b[1;32mif\u001b[0m \u001b[0mSparkContext\u001b[0m\u001b[1;33m.\u001b[0m\u001b[0m_active_spark_context\u001b[0m \u001b[1;32mis\u001b[0m \u001b[1;32mNone\u001b[0m\u001b[1;33m:\u001b[0m\u001b[1;33m\u001b[0m\u001b[1;33m\u001b[0m\u001b[0m\n\u001b[1;32m--> 367\u001b[1;33m                 \u001b[0mSparkContext\u001b[0m\u001b[1;33m(\u001b[0m\u001b[0mconf\u001b[0m\u001b[1;33m=\u001b[0m\u001b[0mconf\u001b[0m \u001b[1;32mor\u001b[0m \u001b[0mSparkConf\u001b[0m\u001b[1;33m(\u001b[0m\u001b[1;33m)\u001b[0m\u001b[1;33m)\u001b[0m\u001b[1;33m\u001b[0m\u001b[1;33m\u001b[0m\u001b[0m\n\u001b[0m\u001b[0;32m    368\u001b[0m             \u001b[1;32mreturn\u001b[0m \u001b[0mSparkContext\u001b[0m\u001b[1;33m.\u001b[0m\u001b[0m_active_spark_context\u001b[0m\u001b[1;33m\u001b[0m\u001b[1;33m\u001b[0m\u001b[0m\n\u001b[0;32m    369\u001b[0m \u001b[1;33m\u001b[0m\u001b[0m\n",
      "\u001b[1;32mC:\\ProgramData\\Anaconda3\\lib\\site-packages\\pyspark\\context.py\u001b[0m in \u001b[0;36m__init__\u001b[1;34m(self, master, appName, sparkHome, pyFiles, environment, batchSize, serializer, conf, gateway, jsc, profiler_cls)\u001b[0m\n\u001b[0;32m    131\u001b[0m                     \" note this option will be removed in Spark 3.0\")\n\u001b[0;32m    132\u001b[0m \u001b[1;33m\u001b[0m\u001b[0m\n\u001b[1;32m--> 133\u001b[1;33m         \u001b[0mSparkContext\u001b[0m\u001b[1;33m.\u001b[0m\u001b[0m_ensure_initialized\u001b[0m\u001b[1;33m(\u001b[0m\u001b[0mself\u001b[0m\u001b[1;33m,\u001b[0m \u001b[0mgateway\u001b[0m\u001b[1;33m=\u001b[0m\u001b[0mgateway\u001b[0m\u001b[1;33m,\u001b[0m \u001b[0mconf\u001b[0m\u001b[1;33m=\u001b[0m\u001b[0mconf\u001b[0m\u001b[1;33m)\u001b[0m\u001b[1;33m\u001b[0m\u001b[1;33m\u001b[0m\u001b[0m\n\u001b[0m\u001b[0;32m    134\u001b[0m         \u001b[1;32mtry\u001b[0m\u001b[1;33m:\u001b[0m\u001b[1;33m\u001b[0m\u001b[1;33m\u001b[0m\u001b[0m\n\u001b[0;32m    135\u001b[0m             self._do_init(master, appName, sparkHome, pyFiles, environment, batchSize, serializer,\n",
      "\u001b[1;32mC:\\ProgramData\\Anaconda3\\lib\\site-packages\\pyspark\\context.py\u001b[0m in \u001b[0;36m_ensure_initialized\u001b[1;34m(cls, instance, gateway, conf)\u001b[0m\n\u001b[0;32m    314\u001b[0m         \u001b[1;32mwith\u001b[0m \u001b[0mSparkContext\u001b[0m\u001b[1;33m.\u001b[0m\u001b[0m_lock\u001b[0m\u001b[1;33m:\u001b[0m\u001b[1;33m\u001b[0m\u001b[1;33m\u001b[0m\u001b[0m\n\u001b[0;32m    315\u001b[0m             \u001b[1;32mif\u001b[0m \u001b[1;32mnot\u001b[0m \u001b[0mSparkContext\u001b[0m\u001b[1;33m.\u001b[0m\u001b[0m_gateway\u001b[0m\u001b[1;33m:\u001b[0m\u001b[1;33m\u001b[0m\u001b[1;33m\u001b[0m\u001b[0m\n\u001b[1;32m--> 316\u001b[1;33m                 \u001b[0mSparkContext\u001b[0m\u001b[1;33m.\u001b[0m\u001b[0m_gateway\u001b[0m \u001b[1;33m=\u001b[0m \u001b[0mgateway\u001b[0m \u001b[1;32mor\u001b[0m \u001b[0mlaunch_gateway\u001b[0m\u001b[1;33m(\u001b[0m\u001b[0mconf\u001b[0m\u001b[1;33m)\u001b[0m\u001b[1;33m\u001b[0m\u001b[1;33m\u001b[0m\u001b[0m\n\u001b[0m\u001b[0;32m    317\u001b[0m                 \u001b[0mSparkContext\u001b[0m\u001b[1;33m.\u001b[0m\u001b[0m_jvm\u001b[0m \u001b[1;33m=\u001b[0m \u001b[0mSparkContext\u001b[0m\u001b[1;33m.\u001b[0m\u001b[0m_gateway\u001b[0m\u001b[1;33m.\u001b[0m\u001b[0mjvm\u001b[0m\u001b[1;33m\u001b[0m\u001b[1;33m\u001b[0m\u001b[0m\n\u001b[0;32m    318\u001b[0m \u001b[1;33m\u001b[0m\u001b[0m\n",
      "\u001b[1;32mC:\\ProgramData\\Anaconda3\\lib\\site-packages\\pyspark\\java_gateway.py\u001b[0m in \u001b[0;36mlaunch_gateway\u001b[1;34m(conf)\u001b[0m\n\u001b[0;32m     44\u001b[0m     \u001b[1;33m:\u001b[0m\u001b[1;32mreturn\u001b[0m\u001b[1;33m:\u001b[0m \u001b[0ma\u001b[0m \u001b[0mJVM\u001b[0m \u001b[0mgateway\u001b[0m\u001b[1;33m\u001b[0m\u001b[1;33m\u001b[0m\u001b[0m\n\u001b[0;32m     45\u001b[0m     \"\"\"\n\u001b[1;32m---> 46\u001b[1;33m     \u001b[1;32mreturn\u001b[0m \u001b[0m_launch_gateway\u001b[0m\u001b[1;33m(\u001b[0m\u001b[0mconf\u001b[0m\u001b[1;33m)\u001b[0m\u001b[1;33m\u001b[0m\u001b[1;33m\u001b[0m\u001b[0m\n\u001b[0m\u001b[0;32m     47\u001b[0m \u001b[1;33m\u001b[0m\u001b[0m\n\u001b[0;32m     48\u001b[0m \u001b[1;33m\u001b[0m\u001b[0m\n",
      "\u001b[1;32mC:\\ProgramData\\Anaconda3\\lib\\site-packages\\pyspark\\java_gateway.py\u001b[0m in \u001b[0;36m_launch_gateway\u001b[1;34m(conf, insecure)\u001b[0m\n\u001b[0;32m    106\u001b[0m \u001b[1;33m\u001b[0m\u001b[0m\n\u001b[0;32m    107\u001b[0m             \u001b[1;32mif\u001b[0m \u001b[1;32mnot\u001b[0m \u001b[0mos\u001b[0m\u001b[1;33m.\u001b[0m\u001b[0mpath\u001b[0m\u001b[1;33m.\u001b[0m\u001b[0misfile\u001b[0m\u001b[1;33m(\u001b[0m\u001b[0mconn_info_file\u001b[0m\u001b[1;33m)\u001b[0m\u001b[1;33m:\u001b[0m\u001b[1;33m\u001b[0m\u001b[1;33m\u001b[0m\u001b[0m\n\u001b[1;32m--> 108\u001b[1;33m                 \u001b[1;32mraise\u001b[0m \u001b[0mException\u001b[0m\u001b[1;33m(\u001b[0m\u001b[1;34m\"Java gateway process exited before sending its port number\"\u001b[0m\u001b[1;33m)\u001b[0m\u001b[1;33m\u001b[0m\u001b[1;33m\u001b[0m\u001b[0m\n\u001b[0m\u001b[0;32m    109\u001b[0m \u001b[1;33m\u001b[0m\u001b[0m\n\u001b[0;32m    110\u001b[0m             \u001b[1;32mwith\u001b[0m \u001b[0mopen\u001b[0m\u001b[1;33m(\u001b[0m\u001b[0mconn_info_file\u001b[0m\u001b[1;33m,\u001b[0m \u001b[1;34m\"rb\"\u001b[0m\u001b[1;33m)\u001b[0m \u001b[1;32mas\u001b[0m \u001b[0minfo\u001b[0m\u001b[1;33m:\u001b[0m\u001b[1;33m\u001b[0m\u001b[1;33m\u001b[0m\u001b[0m\n",
      "\u001b[1;31mException\u001b[0m: Java gateway process exited before sending its port number"
     ]
    }
   ],
   "source": [
    "#单机测试\n",
    "# -*- coding:utf-8 -*-\n",
    "from pyspark import SparkContext, SparkConf\n",
    "from pyspark.sql import SQLContext\n",
    "import numpy as np\n",
    "\n",
    "\n",
    "from pyspark.sql import SQLContext\n",
    "from pyspark import SparkConf,SparkContext\n",
    " \n",
    "masterurl='local'\n",
    "conf = SparkConf().setAppName(\"miniProject\").setMaster(masterurl).set(\"spark.sql.execution.arrow.enabled\", \"true\")\n",
    "sc = SparkContext.getOrCreate(conf)\n",
    "sql_context = SQLContext(sc)\n",
    "url=\"jdbc:mysql://localhost:3306/shopbox\"\n",
    "driver= 'com.mysql.cj.jdbc.Driver'\n",
    "user='root'\n",
    "password='123456'\n",
    "table='cart'\n",
    "properties = {\"user\":user,\"password\":password}\n",
    "df = sql_context.read.jdbc(url=url, table=table, properties=properties)\n",
    "df.show()\n",
    "sc.stop()"
   ]
  },
  {
   "cell_type": "code",
   "execution_count": 6,
   "metadata": {},
   "outputs": [
    {
     "name": "stdout",
     "output_type": "stream",
     "text": [
      "+---------------+---------------+----------------+------+----------+------+----------+------+------+------+------+------+------+------+---------+--------------+------+------+------+----------+------+------+------+----------+------+----------+------+----------+-------------------+-------------------+-----------+------+----------+--------+--------+------+----------+------+------+------+------+------+------+--------------+-------------------+------+------+---------+\n",
      "|         ACC200|         AAC001|          ACC201|ACC202|ACC202_DSC|ACC203|ACC203_DSC|ACC204|ACC205|ACC206|ACC207|ACC208|ACC20A|ACC209|   ACA111|        ACA112|ACB216|ACC034|YCB213|YCB213_DSC|ACB215|ACB217|ACC217|ACC217_DSC|AAC011|AAC011_DSC|AAC004|AAC004_DSC|             AAE043|             AAE044| ACC034_DSC|ACC035|ACC035_DSC|ACC034_L|ACC034_H|AAE045|AAE045_DSC|YAE482|YAE481|YAE485|YAE483|AAE011|YAE116|        AAE017|             AAE036|YAE486|AAE163|   YAB003|\n",
      "+---------------+---------------+----------------+------+----------+------+----------+------+------+------+------+------+------+------+---------+--------------+------+------+------+----------+------+------+------+----------+------+----------+------+----------+-------------------+-------------------+-----------+------+----------+--------+--------+------+----------+------+------+------+------+------+------+--------------+-------------------+------+------+---------+\n",
      "|100000000020580|  5111110095853|       我的简历1|     1|      公开|     0|      默认|     0|     1|     0|     0|     0|     1|  null|  5039900|畜牧业生产人员|  null|  null|  null|      null|  null|  null|  null|      null|  null|      null|     1|      null|2018-08-10 14:58:25|2018-08-10 14:58:25|       null|  null|      null|    null|    null|     1|        是|  null|  null|  null|  null|张洁红|888176|51111120000001|2018-08-10 14:58:25|     0|  null|     null|\n",
      "|100000000020582|  5111990136270|个人基础信息新增|     0|      null|     0|      null|     0|     0|     0|     0|     0|     0|  null|     null|          null|  null|  null|  null|      null|  null|  null|  null|      null|    14|      null|     2|      null|2018-08-10 14:59:23|2018-08-10 14:59:23|       null|  null|      null|    null|    null|  null|      null|  null|  null|  null|  null|  null|  null|          null|               null|  null|  null|     null|\n",
      "|100000000020584|  5111020175050|       我的简历1|     1|      公开|     1|      默认|     0|     1|     0|     0|     0|     1|  null|     null|          null|  null|  null|  null|      null|  null|  null|  null|      null|    90|      null|     2|      null|2018-08-10 15:04:07|2018-08-10 15:04:07|       null|  null|      null|    null|    null|     1|        是|  null|  null|  null|  null|谭淑群|871884|51110000000001|2018-08-10 15:04:07|     0|  null|     null|\n",
      "|100000000020585|  5111130004420|个人基础信息新增|     0|      null|     0|      null|     0|     0|     0|     0|     0|     0|  null|     null|          null|  null|  null|  null|      null|  null|  null|  null|      null|    80|      null|     1|      null|2018-08-10 15:05:52|2018-08-10 15:05:52|       null|  null|      null|    null|    null|  null|      null|  null|  null|  null|  null|  null|  null|          null|               null|  null|  null|     null|\n",
      "|100000000020589|  5111110167822|       我的简历1|     1|      公开|     1|      默认|     0|     1|     0|     0|     0|     1|  null|  6231100|          电工|  null|  null|  null|      null|  null|  null|  null|      null|  null|      null|     1|      null|2018-08-10 15:16:48|2018-08-10 15:16:48|       null|  null|      null|    null|    null|     1|        是|  null|  null|  null|  null|张洁红|888176|51111120000001|2018-08-10 15:16:48|     0|  null|     null|\n",
      "|100000000021287|  5111110163484|个人基础信息新增|     0|      null|     0|      null|     0|     0|     0|     0|     0|     0|  null|     null|          null|  null|  null|  null|      null|  null|  null|  null|      null|    71|      null|     2|      null|2018-08-15 14:44:07|2018-08-15 14:44:07|       null|  null|      null|    null|    null|  null|      null|  null|  null|  null|  null|  null|  null|          null|               null|  null|  null|     null|\n",
      "|100000000021288|  5111991176392|个人基础信息新增|     0|      null|     0|      null|     0|     0|     0|     0|     0|     0|  null|     null|          null|  null|  null|  null|      null|  null|  null|  null|      null|    80|      null|     1|      null|2018-08-15 14:44:22|2018-08-15 14:44:22|       null|  null|      null|    null|    null|  null|      null|  null|  null|  null|  null|  null|  null|          null|               null|  null|  null|     null|\n",
      "|100000000021289|  5111120001222|个人基础信息新增|     0|      null|     0|      null|     0|     0|     0|     0|     0|     0|  null|     null|          null|  null|  null|  null|      null|  null|  null|  null|      null|    60|      null|     1|      null|2018-08-15 14:45:17|2018-08-15 14:45:17|       null|  null|      null|    null|    null|  null|      null|  null|  null|  null|  null|  null|  null|          null|               null|  null|  null|     null|\n",
      "|100000000021290|  5111991177173|个人基础信息新增|     0|      null|     0|      null|     0|     0|     0|     0|     0|     0|  null|     null|          null|  null|  null|  null|      null|  null|  null|  null|      null|    80|      null|     1|      null|2018-08-15 14:45:25|2018-08-15 14:45:25|       null|  null|      null|    null|    null|  null|      null|  null|  null|  null|  null|  null|  null|          null|               null|  null|  null|     null|\n",
      "|100000000021292| 51111123100183|个人基础信息新增|     0|      null|     0|      null|     0|     0|     0|     0|     0|     0|  null|     null|          null|  null|  null|  null|      null|  null|  null|  null|      null|    80|      null|     2|      null|2018-08-15 14:46:35|2018-08-15 14:46:35|       null|  null|      null|    null|    null|  null|      null|  null|  null|  null|  null|  null|  null|          null|               null|  null|  null|     null|\n",
      "|100000000006000|100000000014550|        我的简历|     0|      null|     0|      null|     0|     0|     0|     0|     0|     0|  null|     null|      销售主管|  null|  null|  null|      null|  null|  null|  null|      null|  null|      不限|  null|      null|2018-05-11 11:07:36|2018-05-11 11:07:36|2000-5000元|  null|      null|    null|    null|  null|      null|  null|  null|  null|  null|  null|  null|          null|               null|  null|  null|511100000|\n",
      "|100000000018314|  5111230279361|       我的简历1|     1|      公开|     0|      默认|     0|     1|     0|     0|     0|     1|  null|703000009|  农村实用技术|  null|  null|  null|      null|  null|  null|  null|      null|  null|      null|     1|      null|2018-07-30 15:46:36|2018-07-30 15:46:36|       null|  null|      null|    null|    null|     1|        是|  null|  null|  null|  null|  石宇|887804|51112310900001|2018-07-30 15:46:36|     0|  null|     null|\n",
      "|100000000018319|  5111230277959|       我的简历1|     1|      公开|     1|      默认|     0|     1|     0|     0|     0|     1|  null|703000009|  农村实用技术|  null|  null|  null|      null|  null|  null|  null|      null|  null|      null|     2|      null|2018-07-30 15:52:08|2018-07-30 15:52:08|       null|  null|      null|    null|    null|     1|        是|  null|  null|  null|  null|  石宇|887804|51112310900001|2018-07-30 15:52:08|     0|  null|     null|\n",
      "|100000000018324|   511123543023|       我的简历1|     1|      公开|     1|      默认|     0|     1|     0|     0|     0|     1|  null|703000009|  农村实用技术|  null|  null|  null|      null|  null|  null|  null|      null|  null|      null|     2|      null|2018-07-30 15:55:29|2018-07-30 15:55:29|       null|  null|      null|    null|    null|     1|        是|  null|  null|  null|  null|  石宇|887804|51112310900001|2018-07-30 15:55:29|     0|  null|     null|\n",
      "|100000000018327|   511102484860|个人基础信息新增|     0|      null|     0|      null|     0|     0|     0|     0|     0|     0|  null|     null|          null|  null|  null|  null|      null|  null|  null|  null|      null|    20|      null|     2|      null|2018-07-30 15:58:02|2018-07-30 15:58:02|       null|  null|      null|    null|    null|  null|      null|  null|  null|  null|  null|  null|  null|          null|               null|  null|  null|     null|\n",
      "|100000000018328|100000000028904|个人基础信息新增|     0|      null|     0|      null|     0|     0|     0|     0|     0|     0|  null|     null|          null|  null|  null|  null|      null|  null|  null|  null|      null|    30|      null|     2|      null|2018-07-30 15:58:23|2018-07-30 15:58:23|       null|  null|      null|    null|    null|  null|      null|  null|  null|  null|  null|  null|  null|          null|               null|  null|  null|     null|\n",
      "|100000000018330|  5111230007781|个人基础信息新增|     0|      null|     0|      null|     0|     0|     0|     0|     0|     0|  null|     null|          null|  null|  null|  null|      null|  null|  null|  null|      null|    90|      null|     1|      null|2018-07-30 15:58:47|2018-07-30 15:58:47|       null|  null|      null|    null|    null|  null|      null|  null|  null|  null|  null|  null|  null|          null|               null|  null|  null|     null|\n",
      "|100000000018467|  5111110060001|个人基础信息新增|     0|      null|     0|      null|     0|     0|     0|     0|     0|     0|  null|     null|          null|  null|  null|  null|      null|  null|  null|  null|      null|    60|      null|     2|      null|2018-07-31 14:42:11|2018-07-31 14:42:11|       null|  null|      null|    null|    null|  null|      null|  null|  null|  null|  null|  null|  null|          null|               null|  null|  null|     null|\n",
      "|100000000018469|   511111640097|个人基础信息新增|     0|      null|     0|      null|     0|     0|     0|     0|     0|     0|  null|     null|          null|  null|  null|  null|      null|  null|  null|  null|      null|    60|      null|     1|      null|2018-07-31 14:50:57|2018-07-31 14:50:57|       null|  null|      null|    null|    null|  null|      null|  null|  null|  null|  null|  null|  null|          null|               null|  null|  null|     null|\n",
      "|100000000018470|  5111110069038|个人基础信息新增|     0|      null|     0|      null|     0|     0|     0|     0|     0|     0|  null|  6000000|          null|  null|  null|  null|      null|  null|  null|  null|      null|    90|      null|     2|      null|2018-07-31 14:51:11|2018-07-31 14:51:11|       null|  null|      null|    null|    null|  null|      null|  null|  null|  null|  null|  null|  null|          null|               null|  null|  null|     null|\n",
      "+---------------+---------------+----------------+------+----------+------+----------+------+------+------+------+------+------+------+---------+--------------+------+------+------+----------+------+------+------+----------+------+----------+------+----------+-------------------+-------------------+-----------+------+----------+--------+--------+------+----------+------+------+------+------+------+------+--------------+-------------------+------+------+---------+\n",
      "only showing top 20 rows\n",
      "\n"
     ]
    }
   ],
   "source": [
    "#服务器测试\n",
    "# -*- coding:utf-8 -*-\n",
    "from pyspark import SparkContext, SparkConf\n",
    "from pyspark.sql import SQLContext\n",
    "import numpy as np\n",
    "\n",
    "\n",
    "appName = \"jhl_spark_1\"  # 你的应用程序名称\n",
    "master = \"local\"  # 设置单机\n",
    "conf = SparkConf().setAppName(appName).setMaster(master)  # 配置SparkContext\n",
    "sc = SparkContext(conf=conf)\n",
    "sqlContext = SQLContext(sc)\n",
    "url='jdbc:oracle:thin:@192.168.26.220:1521/EE'\n",
    "tablename=\"cc20\"\n",
    "properties={\"user\": \"scjy\", \"password\": \"scjy\"}\n",
    "df=sqlContext.read.jdbc(url=url,table=tablename,properties=properties)\n",
    "df.show()\n",
    "# #注册为表，然后在SQL语句中使用\n",
    "# df.registerTempTable(\"cc20\")\n",
    "# #SQL可以在已注册为表的RDDS上运行\n",
    "# df2=sqlContext.sql(\"select * from cc20\")\n",
    "sc.stop()"
   ]
  },
  {
   "cell_type": "code",
   "execution_count": null,
   "metadata": {},
   "outputs": [],
   "source": []
  },
  {
   "cell_type": "code",
   "execution_count": null,
   "metadata": {},
   "outputs": [],
   "source": []
  },
  {
   "cell_type": "code",
   "execution_count": 13,
   "metadata": {},
   "outputs": [],
   "source": []
  },
  {
   "cell_type": "code",
   "execution_count": null,
   "metadata": {},
   "outputs": [],
   "source": []
  },
  {
   "cell_type": "code",
   "execution_count": null,
   "metadata": {},
   "outputs": [],
   "source": []
  }
 ],
 "metadata": {
  "kernelspec": {
   "display_name": "Python 3",
   "language": "python",
   "name": "python3"
  },
  "language_info": {
   "codemirror_mode": {
    "name": "ipython",
    "version": 3
   },
   "file_extension": ".py",
   "mimetype": "text/x-python",
   "name": "python",
   "nbconvert_exporter": "python",
   "pygments_lexer": "ipython3",
   "version": "3.7.4"
  }
 },
 "nbformat": 4,
 "nbformat_minor": 2
}

{
 "cells": [
  {
   "cell_type": "code",
   "execution_count": 16,
   "metadata": {},
   "outputs": [],
   "source": [
    "# 连接端口\n",
    "from elasticsearch import Elasticsearch\n",
    "from elasticsearch.helpers import bulk\n",
    "import json\n",
    "es = Elasticsearch(['192.168.26.220:9200'])  "
   ]
  },
  {
   "cell_type": "code",
   "execution_count": 17,
   "metadata": {},
   "outputs": [],
   "source": [
    "#读取数据\n",
    "import os\n",
    "os.chdir(r'C:\\Users\\REGGIE\\Desktop\\work\\data')"
   ]
  },
  {
   "cell_type": "code",
   "execution_count": 11,
   "metadata": {},
   "outputs": [],
   "source": [
    "with open('test.json','r',encoding='utf-8') as f:\n",
    "    data  = json.load(f)"
   ]
  },
  {
   "cell_type": "code",
   "execution_count": 12,
   "metadata": {},
   "outputs": [
    {
     "data": {
      "text/plain": [
       "{'finallyRecommend_content': {'511102484868': {'100000000034320': 0.2,\n",
       "   '100000000071454': 0.2},\n",
       "  '5111810037934': {'100000000071026': 0.2, '100000000072440': 0.2},\n",
       "  '5111810196807': {'100000000081581': 0.2, '100000000081583': 0.2},\n",
       "  '5115020020928': {'100000000051420': 0.2, '100000000077915': 0.2},\n",
       "  '5118020055917': {'100000000046970': 0.2, '100000000074704': 0.2}},\n",
       " 'finallyRecommend_embedding': {'511102484868': {'100000000068723': 0.4,\n",
       "   '100000000071579': 0.4,\n",
       "   '100000000072543': 0.4,\n",
       "   '5200023493': 0.4},\n",
       "  '5111810037934': {},\n",
       "  '5111810196807': {'100000000063530': 0.4,\n",
       "   '100000000077019': 0.4,\n",
       "   '100000000079066': 0.4,\n",
       "   '100000000079285': 0.4},\n",
       "  '5115020020928': {},\n",
       "  '5118020055917': {'100000000050928': 0.4,\n",
       "   '100000000072022': 0.4,\n",
       "   '100000000072107': 0.4,\n",
       "   '100000000077959': 0.4}},\n",
       " 'finallyRecommend_memory': {'511102484868': {'100000000071082': 0.3,\n",
       "   '100000000071545': 0.3,\n",
       "   '100000000072643': 0.3},\n",
       "  '5111810037934': {},\n",
       "  '5111810196807': {'100000000071221': 0.3,\n",
       "   '100000000071582': 0.3,\n",
       "   '100000000080757': 0.3},\n",
       "  '5115020020928': {},\n",
       "  '5118020055917': {'100000000070652': 0.3,\n",
       "   '100000000076399': 0.3,\n",
       "   '100000000082459': 0.3}},\n",
       " 'finallyRecommend_model': {'511102484868': {'100000000035104': 0.5,\n",
       "   '100000000055592': 0.5,\n",
       "   '100000000059174': 0.5,\n",
       "   '100000000063660': 0.5,\n",
       "   '100000000071024': 0.5},\n",
       "  '5111810037934': {},\n",
       "  '5111810196807': {'100000000034207': 0.5,\n",
       "   '100000000041522': 0.5,\n",
       "   '100000000059174': 0.5,\n",
       "   '100000000071862': 0.5,\n",
       "   '100000000072111': 0.5},\n",
       "  '5115020020928': {},\n",
       "  '5118020055917': {'100000000048838': 0.5,\n",
       "   '100000000052248': 0.5,\n",
       "   '100000000064640': 0.5,\n",
       "   '100000000074769': 0.5,\n",
       "   '100000000075119': 0.5}},\n",
       " 'finallyRecommend_popular': {'511102484868': {'5200025556': 0.1},\n",
       "  '5111810037934': {'5200025556': 0.1},\n",
       "  '5111810196807': {'5200025556': 0.1},\n",
       "  '5115020020928': {'5200025556': 0.1},\n",
       "  '5118020055917': {'5200025556': 0.1}},\n",
       " 'result': 1}"
      ]
     },
     "execution_count": 12,
     "metadata": {},
     "output_type": "execute_result"
    }
   ],
   "source": [
    "data"
   ]
  },
  {
   "cell_type": "code",
   "execution_count": 6,
   "metadata": {},
   "outputs": [],
   "source": [
    "#构建结构\n",
    "body = {'finallyRecommend_content':data['finallyRecommend_content'],\n",
    "       'finallyRecommend_embedding':data['finallyRecommend_embedding'],\n",
    "       'finallyRecommend_memory':data['finallyRecommend_memory'],\n",
    "       'finallyRecommend_model':data['finallyRecommend_model'],\n",
    "       'finallyRecommend_popular':data['finallyRecommend_popular'],\n",
    "       'result':data['result']}"
   ]
  },
  {
   "cell_type": "code",
   "execution_count": 7,
   "metadata": {},
   "outputs": [
    {
     "data": {
      "text/plain": [
       "{'_index': 'test',\n",
       " '_type': 'test',\n",
       " '_id': 'CFi7l3UBvtRWlIaT-uBE',\n",
       " '_version': 1,\n",
       " 'result': 'created',\n",
       " '_shards': {'total': 2, 'successful': 1, 'failed': 0},\n",
       " '_seq_no': 0,\n",
       " '_primary_term': 1}"
      ]
     },
     "execution_count": 7,
     "metadata": {},
     "output_type": "execute_result"
    }
   ],
   "source": [
    "#存储数据\n",
    "es.index(index='test', doc_type='test', body=body, id=None)"
   ]
  },
  {
   "cell_type": "code",
   "execution_count": 6,
   "metadata": {},
   "outputs": [],
   "source": [
    "from pyspark import SparkContext,SparkConf\n",
    "from pyspark.sql import SparkSession\n",
    "from pyspark.sql import SQLContext\n",
    "conf=SparkConf().setAppName(\"spark_json1\")\n",
    "sc=SparkContext(conf=conf)\n",
    "sqlContext=SQLContext(sc)"
   ]
  },
  {
   "cell_type": "code",
   "execution_count": 7,
   "metadata": {},
   "outputs": [],
   "source": [
    "jsons=sqlContext.read.option(\"multiline\",\"true\").json(r\"C:\\Users\\REGGIE\\Desktop\\work\\data\\test.json\")"
   ]
  },
  {
   "cell_type": "code",
   "execution_count": 8,
   "metadata": {},
   "outputs": [
    {
     "data": {
      "text/plain": [
       "pyspark.sql.dataframe.DataFrame"
      ]
     },
     "execution_count": 8,
     "metadata": {},
     "output_type": "execute_result"
    }
   ],
   "source": [
    "type(jsons)"
   ]
  },
  {
   "cell_type": "code",
   "execution_count": 14,
   "metadata": {},
   "outputs": [
    {
     "name": "stdout",
     "output_type": "stream",
     "text": [
      "root\n",
      " |-- finallyRecommend_content: struct (nullable = true)\n",
      " |    |-- 511102484868: struct (nullable = true)\n",
      " |    |    |-- 100000000034320: double (nullable = true)\n",
      " |    |    |-- 100000000071454: double (nullable = true)\n",
      " |    |-- 5111810037934: struct (nullable = true)\n",
      " |    |    |-- 100000000071026: double (nullable = true)\n",
      " |    |    |-- 100000000072440: double (nullable = true)\n",
      " |    |-- 5111810196807: struct (nullable = true)\n",
      " |    |    |-- 100000000081581: double (nullable = true)\n",
      " |    |    |-- 100000000081583: double (nullable = true)\n",
      " |    |-- 5115020020928: struct (nullable = true)\n",
      " |    |    |-- 100000000051420: double (nullable = true)\n",
      " |    |    |-- 100000000077915: double (nullable = true)\n",
      " |    |-- 5118020055917: struct (nullable = true)\n",
      " |    |    |-- 100000000046970: double (nullable = true)\n",
      " |    |    |-- 100000000074704: double (nullable = true)\n",
      " |-- finallyRecommend_embedding: struct (nullable = true)\n",
      " |    |-- 511102484868: struct (nullable = true)\n",
      " |    |    |-- 100000000068723: double (nullable = true)\n",
      " |    |    |-- 100000000071579: double (nullable = true)\n",
      " |    |    |-- 100000000072543: double (nullable = true)\n",
      " |    |    |-- 5200023493: double (nullable = true)\n",
      " |    |-- 5111810196807: struct (nullable = true)\n",
      " |    |    |-- 100000000063530: double (nullable = true)\n",
      " |    |    |-- 100000000077019: double (nullable = true)\n",
      " |    |    |-- 100000000079066: double (nullable = true)\n",
      " |    |    |-- 100000000079285: double (nullable = true)\n",
      " |    |-- 5118020055917: struct (nullable = true)\n",
      " |    |    |-- 100000000050928: double (nullable = true)\n",
      " |    |    |-- 100000000072022: double (nullable = true)\n",
      " |    |    |-- 100000000072107: double (nullable = true)\n",
      " |    |    |-- 100000000077959: double (nullable = true)\n",
      " |-- finallyRecommend_memory: struct (nullable = true)\n",
      " |    |-- 511102484868: struct (nullable = true)\n",
      " |    |    |-- 100000000071082: double (nullable = true)\n",
      " |    |    |-- 100000000071545: double (nullable = true)\n",
      " |    |    |-- 100000000072643: double (nullable = true)\n",
      " |    |-- 5111810196807: struct (nullable = true)\n",
      " |    |    |-- 100000000071221: double (nullable = true)\n",
      " |    |    |-- 100000000071582: double (nullable = true)\n",
      " |    |    |-- 100000000080757: double (nullable = true)\n",
      " |    |-- 5118020055917: struct (nullable = true)\n",
      " |    |    |-- 100000000070652: double (nullable = true)\n",
      " |    |    |-- 100000000076399: double (nullable = true)\n",
      " |    |    |-- 100000000082459: double (nullable = true)\n",
      " |-- finallyRecommend_model: struct (nullable = true)\n",
      " |    |-- 511102484868: struct (nullable = true)\n",
      " |    |    |-- 100000000035104: double (nullable = true)\n",
      " |    |    |-- 100000000055592: double (nullable = true)\n",
      " |    |    |-- 100000000059174: double (nullable = true)\n",
      " |    |    |-- 100000000063660: double (nullable = true)\n",
      " |    |    |-- 100000000071024: double (nullable = true)\n",
      " |    |-- 5111810196807: struct (nullable = true)\n",
      " |    |    |-- 100000000034207: double (nullable = true)\n",
      " |    |    |-- 100000000041522: double (nullable = true)\n",
      " |    |    |-- 100000000059174: double (nullable = true)\n",
      " |    |    |-- 100000000071862: double (nullable = true)\n",
      " |    |    |-- 100000000072111: double (nullable = true)\n",
      " |    |-- 5118020055917: struct (nullable = true)\n",
      " |    |    |-- 100000000048838: double (nullable = true)\n",
      " |    |    |-- 100000000052248: double (nullable = true)\n",
      " |    |    |-- 100000000064640: double (nullable = true)\n",
      " |    |    |-- 100000000074769: double (nullable = true)\n",
      " |    |    |-- 100000000075119: double (nullable = true)\n",
      " |-- finallyRecommend_popular: struct (nullable = true)\n",
      " |    |-- 511102484868: struct (nullable = true)\n",
      " |    |    |-- 5200025556: double (nullable = true)\n",
      " |    |-- 5111810037934: struct (nullable = true)\n",
      " |    |    |-- 5200025556: double (nullable = true)\n",
      " |    |-- 5111810196807: struct (nullable = true)\n",
      " |    |    |-- 5200025556: double (nullable = true)\n",
      " |    |-- 5115020020928: struct (nullable = true)\n",
      " |    |    |-- 5200025556: double (nullable = true)\n",
      " |    |-- 5118020055917: struct (nullable = true)\n",
      " |    |    |-- 5200025556: double (nullable = true)\n",
      " |-- result: long (nullable = true)\n",
      "\n"
     ]
    }
   ],
   "source": [
    "jsons.printSchema()"
   ]
  },
  {
   "cell_type": "code",
   "execution_count": null,
   "metadata": {},
   "outputs": [],
   "source": []
  },
  {
   "cell_type": "code",
   "execution_count": null,
   "metadata": {},
   "outputs": [],
   "source": []
  },
  {
   "cell_type": "code",
   "execution_count": null,
   "metadata": {},
   "outputs": [],
   "source": []
  },
  {
   "cell_type": "code",
   "execution_count": null,
   "metadata": {},
   "outputs": [],
   "source": []
  },
  {
   "cell_type": "code",
   "execution_count": null,
   "metadata": {},
   "outputs": [],
   "source": []
  },
  {
   "cell_type": "code",
   "execution_count": null,
   "metadata": {},
   "outputs": [],
   "source": []
  },
  {
   "cell_type": "code",
   "execution_count": null,
   "metadata": {},
   "outputs": [],
   "source": []
  }
 ],
 "metadata": {
  "kernelspec": {
   "display_name": "Python 3",
   "language": "python",
   "name": "python3"
  },
  "language_info": {
   "codemirror_mode": {
    "name": "ipython",
    "version": 3
   },
   "file_extension": ".py",
   "mimetype": "text/x-python",
   "name": "python",
   "nbconvert_exporter": "python",
   "pygments_lexer": "ipython3",
   "version": "3.7.4"
  }
 },
 "nbformat": 4,
 "nbformat_minor": 2
}

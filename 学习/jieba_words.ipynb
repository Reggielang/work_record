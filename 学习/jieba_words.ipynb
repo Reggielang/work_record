{
 "cells": [
  {
   "cell_type": "code",
   "execution_count": 1,
   "metadata": {},
   "outputs": [],
   "source": [
    "import os\n",
    "import os.path\n",
    "import re \n",
    "import collections \n",
    "import numpy as np \n",
    "import wordcloud \n",
    "from PIL import Image \n",
    "import matplotlib.pyplot as plt\n",
    "import os\n",
    "import jieba\n",
    "from jieba.analyse import *\n",
    "import codecs\n",
    "import pandas as pd"
   ]
  },
  {
   "cell_type": "code",
   "execution_count": 2,
   "metadata": {},
   "outputs": [
    {
     "name": "stdout",
     "output_type": "stream",
     "text": [
      "finished\n"
     ]
    }
   ],
   "source": [
    "#合并所有txt文件\n",
    "def MergeTxt(filepath,outfile):\n",
    "  k = open(filepath+outfile, 'a+',encoding='utf-8')\n",
    "  for parent, dirnames, filenames in os.walk(filepath):\n",
    "    for filepath in filenames:\n",
    "      txtPath = os.path.join(parent, filepath)\n",
    "      f = open(txtPath,encoding='utf-8')\n",
    "      k.write(f.read()+\"\\n\")\n",
    "  k.close()\n",
    "  print (\"finished\")\n",
    "\n",
    "filepath=\"C:/Users/REGGIE/Desktop/work/爬虫/成都人社/\"\n",
    "outfile=\"result.txt\"\n",
    "MergeTxt(filepath,outfile)"
   ]
  },
  {
   "cell_type": "code",
   "execution_count": 3,
   "metadata": {},
   "outputs": [],
   "source": [
    "#分词成文件\n",
    "#def jieba_text(jieba_file):\n",
    "#    word_list = []\n",
    "#    data = open(jieba_file, encoding='utf-8').read()\n",
    "#    seg_list = jieba.cut(data, cut_all=False)  # 精确模式\n",
    "#    for i in seg_list:\n",
    "#        word_list.append(i.strip())\n",
    "#    data_quchong = pd.DataFrame({'a':word_list})\n",
    "#    data_quchong.drop_duplicates(subset=['a'],keep='first',inplace=True)\n",
    "#    word_list = data_quchong['a'].tolist()\n",
    "#    with codecs.open('word.txt','w','utf8')as w:\n",
    "#        for line in word_list:\n",
    "#            w.write(line + '\\n')"
   ]
  },
  {
   "cell_type": "code",
   "execution_count": 4,
   "metadata": {},
   "outputs": [],
   "source": [
    "#jieba_file = r'C:/Users/REGGIE/Desktop/work/爬虫/成都人社/result.txt'\n",
    "#jieba_text(jieba_file)"
   ]
  },
  {
   "cell_type": "code",
   "execution_count": 5,
   "metadata": {},
   "outputs": [
    {
     "name": "stderr",
     "output_type": "stream",
     "text": [
      "Building prefix dict from the default dictionary ...\n",
      "Loading model from cache C:\\Users\\REGGIE\\AppData\\Local\\Temp\\jieba.cache\n",
      "Loading model cost 0.894 seconds.\n",
      "Prefix dict has been built successfully.\n"
     ]
    }
   ],
   "source": [
    "#分词\n",
    "with open('C:/Users/REGGIE/Desktop/work/爬虫/成都人社/result.txt','r',encoding = 'utf-8') as f:\n",
    "    document = f.read()\n",
    "    document_cut = jieba.cut(document)\n",
    "    result = ' '.join(document_cut)"
   ]
  },
  {
   "cell_type": "code",
   "execution_count": 6,
   "metadata": {},
   "outputs": [
    {
     "name": "stdout",
     "output_type": "stream",
     "text": [
      "就业 0.07376186713351601\n",
      "服务 0.06881645017757729\n",
      "成都市 0.06079298143002089\n",
      "人员 0.05697875193500441\n",
      "人力资源 0.0518625146010362\n",
      "劳动 0.0485802182935925\n",
      "用人单位 0.047113159121789726\n",
      "参保 0.045591359975826806\n",
      "医疗保险 0.0449801106971276\n",
      "机构 0.0444923392760158\n",
      "培训 0.043121541084118614\n",
      "社会保险 0.04074874607442081\n",
      "毕业生 0.03899741934818747\n",
      "人才 0.03852236981110667\n",
      "社会保障 0.03684907853189817\n",
      "规定 0.03656724988702745\n",
      "补贴 0.03564227832932144\n",
      "缴费 0.035606801652348044\n",
      "经办 0.0339632552676706\n",
      "基本 0.033852532856792496\n"
     ]
    }
   ],
   "source": [
    "from jieba.analyse import *\n",
    "#关键词提取\n",
    "for keyword,weight in extract_tags(result, topK=20,withWeight=True):\n",
    "    print('{} {}'.format(keyword, weight))"
   ]
  },
  {
   "cell_type": "code",
   "execution_count": 7,
   "metadata": {},
   "outputs": [
    {
     "name": "stdout",
     "output_type": "stream",
     "text": [
      "就业 1.0\n",
      "服务 0.8938385745701847\n",
      "人员 0.8634555139961473\n",
      "机构 0.8083627675363714\n",
      "工作 0.7536411284402734\n",
      "基本 0.6348341815299848\n",
      "劳动 0.610633358884005\n",
      "成都市 0.5872454351966373\n",
      "企业 0.5675069826942997\n",
      "人才 0.5588790530162425\n",
      "培训 0.5383573981057338\n",
      "规定 0.521678804238943\n",
      "单位 0.5008478333844248\n",
      "医疗保险 0.47949551609215624\n",
      "创业 0.4754200609882231\n",
      "人力资源 0.47499007831215956\n",
      "毕业生 0.39883365019819644\n",
      "职工 0.39829854638977613\n",
      "参保 0.39440930537276164\n",
      "社会保险 0.3833197227718515\n"
     ]
    }
   ],
   "source": [
    "for keyword, weight in textrank(result, withWeight=True):\n",
    "    print('%s %s' % (keyword, weight))"
   ]
  },
  {
   "cell_type": "code",
   "execution_count": null,
   "metadata": {},
   "outputs": [],
   "source": []
  },
  {
   "cell_type": "code",
   "execution_count": null,
   "metadata": {},
   "outputs": [],
   "source": []
  },
  {
   "cell_type": "code",
   "execution_count": null,
   "metadata": {},
   "outputs": [],
   "source": []
  },
  {
   "cell_type": "code",
   "execution_count": null,
   "metadata": {},
   "outputs": [],
   "source": []
  },
  {
   "cell_type": "code",
   "execution_count": null,
   "metadata": {},
   "outputs": [],
   "source": []
  },
  {
   "cell_type": "code",
   "execution_count": null,
   "metadata": {},
   "outputs": [],
   "source": []
  },
  {
   "cell_type": "code",
   "execution_count": null,
   "metadata": {},
   "outputs": [],
   "source": []
  },
  {
   "cell_type": "code",
   "execution_count": null,
   "metadata": {},
   "outputs": [],
   "source": []
  },
  {
   "cell_type": "code",
   "execution_count": null,
   "metadata": {},
   "outputs": [],
   "source": []
  },
  {
   "cell_type": "code",
   "execution_count": null,
   "metadata": {},
   "outputs": [],
   "source": [
    "\n"
   ]
  }
 ],
 "metadata": {
  "kernelspec": {
   "display_name": "Python 3",
   "language": "python",
   "name": "python3"
  },
  "language_info": {
   "codemirror_mode": {
    "name": "ipython",
    "version": 3
   },
   "file_extension": ".py",
   "mimetype": "text/x-python",
   "name": "python",
   "nbconvert_exporter": "python",
   "pygments_lexer": "ipython3",
   "version": "3.7.4"
  }
 },
 "nbformat": 4,
 "nbformat_minor": 2
}

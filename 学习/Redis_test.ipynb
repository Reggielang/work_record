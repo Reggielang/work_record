{
 "cells": [
  {
   "cell_type": "code",
   "execution_count": 1,
   "metadata": {},
   "outputs": [
    {
     "name": "stdout",
     "output_type": "stream",
     "text": [
      "runoob\n",
      "runoob\n",
      "<class 'str'>\n"
     ]
    }
   ],
   "source": [
    "import redis   # 导入redis 模块\n",
    "\n",
    "r = redis.Redis(host='localhost', port=6379, decode_responses=True)  \n",
    "r.set('name', 'runoob')  # 设置 name 对应的值\n",
    "print(r['name'])\n",
    "print(r.get('name'))  # 取出键 name 对应的值\n",
    "print(type(r.get('name')))  # 查看类型"
   ]
  },
  {
   "cell_type": "code",
   "execution_count": 2,
   "metadata": {},
   "outputs": [
    {
     "name": "stdout",
     "output_type": "stream",
     "text": [
      "runoob\n"
     ]
    }
   ],
   "source": [
    "#连接池\n",
    "import redis    # 导入redis 模块\n",
    "\n",
    "pool = redis.ConnectionPool(host='localhost', port=6379, decode_responses=True)\n",
    "r = redis.Redis(host='localhost', port=6379, decode_responses=True)  \n",
    "r.set('name', 'runoob')  # 设置 name 对应的值\n",
    "print(r.get('name'))  # 取出键 name 对应的值"
   ]
  },
  {
   "cell_type": "code",
   "execution_count": 4,
   "metadata": {},
   "outputs": [
    {
     "name": "stdout",
     "output_type": "stream",
     "text": [
      "mutton\n"
     ]
    }
   ],
   "source": [
    "import redis\n",
    "\n",
    "r = redis.Redis(connection_pool=pool)\n",
    "r.set('food', 'mutton', ex=3)    # key是\"food\" value是\"mutton\" 将键值对存入redis缓存\n",
    "print(r.get('food'))  # mutton 取出键food对应的值"
   ]
  },
  {
   "cell_type": "code",
   "execution_count": 6,
   "metadata": {},
   "outputs": [
    {
     "name": "stdout",
     "output_type": "stream",
     "text": [
      "beef\n"
     ]
    }
   ],
   "source": [
    "import redis\n",
    "\n",
    "pool = redis.ConnectionPool(host='localhost', port=6379, decode_responses=True)\n",
    "r = redis.Redis(connection_pool=pool)\n",
    "r.set('food', 'beef', px=3)\n",
    "print(r.get('food'))"
   ]
  },
  {
   "cell_type": "code",
   "execution_count": 8,
   "metadata": {},
   "outputs": [
    {
     "name": "stdout",
     "output_type": "stream",
     "text": [
      "True\n"
     ]
    }
   ],
   "source": [
    "import redis\n",
    "\n",
    "pool = redis.ConnectionPool(host='localhost', port=6379, decode_responses=True)\n",
    "r = redis.Redis(connection_pool=pool)\n",
    "print(r.set('fruit', 'watermelon', nx=True))    # True--不存在\n",
    "# 如果键fruit不存在，那么输出是True；如果键fruit已经存在，输出是None"
   ]
  },
  {
   "cell_type": "code",
   "execution_count": 9,
   "metadata": {},
   "outputs": [
    {
     "name": "stdout",
     "output_type": "stream",
     "text": [
      "True\n"
     ]
    }
   ],
   "source": [
    "#设置值，只有name不存在时，执行设置操作（添加）\n",
    "print(r.setnx('fruit1', 'banana'))  # fruit1不存在，输出为True"
   ]
  },
  {
   "cell_type": "code",
   "execution_count": 12,
   "metadata": {},
   "outputs": [
    {
     "name": "stdout",
     "output_type": "stream",
     "text": [
      "None\n"
     ]
    }
   ],
   "source": [
    "import redis\n",
    "import time\n",
    "\n",
    "r = redis.Redis(connection_pool=pool)\n",
    "r.setex(\"fruit2\", 5, \"orange\")\n",
    "time.sleep(6)\n",
    "print(r.get('fruit2'))  # 5秒后，取值就从orange变成None"
   ]
  },
  {
   "cell_type": "code",
   "execution_count": 19,
   "metadata": {},
   "outputs": [
    {
     "name": "stdout",
     "output_type": "stream",
     "text": [
      "['watermelon', 'banana', None, None, None]\n"
     ]
    }
   ],
   "source": [
    "print(r.mget(\"fruit\", \"fruit1\", \"fruit2\", \"k1\", \"k2\"))  # 将目前redis缓存中的键对应的值批量取出来"
   ]
  },
  {
   "cell_type": "code",
   "execution_count": 20,
   "metadata": {},
   "outputs": [
    {
     "name": "stdout",
     "output_type": "stream",
     "text": [
      "君\n",
      "君惜大大\n",
      "jun\n",
      "junxi\n"
     ]
    }
   ],
   "source": [
    "r.set(\"cn_name\", \"君惜大大\") # 汉字\n",
    "print(r.getrange(\"cn_name\", 0, 2))   # 取索引号是0-2 前3位的字节 君 切片操作 （一个汉字3个字节 1个字母一个字节 每个字节8bit）\n",
    "print(r.getrange(\"cn_name\", 0, -1))  # 取所有的字节 君惜大大 切片操作\n",
    "r.set(\"en_name\",\"junxi\") # 字母\n",
    "print(r.getrange(\"en_name\", 0, 2))  # 取索引号是0-2 前3位的字节 jun 切片操作 （一个汉字3个字节 1个字母一个字节 每个字节8bit）\n",
    "print(r.getrange(\"en_name\", 0, -1)) # 取所有的字节 junxi 切片操作"
   ]
  },
  {
   "cell_type": "code",
   "execution_count": 21,
   "metadata": {},
   "outputs": [
    {
     "name": "stdout",
     "output_type": "stream",
     "text": [
      "jccci\n"
     ]
    }
   ],
   "source": [
    "r.setrange(\"en_name\", 1, \"ccc\")\n",
    "print(r.get(\"en_name\"))    # jccci 原始值是junxi 从索引号是1开始替换成ccc 变成 jccci"
   ]
  },
  {
   "cell_type": "code",
   "execution_count": 22,
   "metadata": {},
   "outputs": [
    {
     "name": "stdout",
     "output_type": "stream",
     "text": [
      "['k1', 'k2']\n",
      "v1\n",
      "['v1', 'v2']\n",
      "v2\n"
     ]
    }
   ],
   "source": [
    "import redis\n",
    "import time\n",
    "\n",
    "pool = redis.ConnectionPool(host='localhost', port=6379, decode_responses=True)\n",
    "r = redis.Redis(connection_pool=pool)\n",
    "\n",
    "r.hset(\"hash1\", \"k1\", \"v1\")\n",
    "r.hset(\"hash1\", \"k2\", \"v2\")\n",
    "print(r.hkeys(\"hash1\")) # 取hash中所有的key\n",
    "print(r.hget(\"hash1\", \"k1\"))    # 单个取hash的key对应的值\n",
    "print(r.hmget(\"hash1\", \"k1\", \"k2\")) # 多个取hash的key对应的值\n",
    "r.hsetnx(\"hash1\", \"k2\", \"v3\") # 只能新建\n",
    "print(r.hget(\"hash1\", \"k2\"))"
   ]
  },
  {
   "cell_type": "code",
   "execution_count": 26,
   "metadata": {},
   "outputs": [
    {
     "name": "stdout",
     "output_type": "stream",
     "text": [
      "v2\n",
      "['v2', 'v3']\n",
      "['v2', 'v3']\n"
     ]
    }
   ],
   "source": [
    "r.hmset(\"hash2\", {\"k2\": \"v2\", \"k3\": \"v3\"})\n",
    "print(r.hget(\"hash2\", \"k2\"))  # 单个取出\"hash2\"的key-k2对应的value\n",
    "print(r.hmget(\"hash2\", \"k2\", \"k3\"))  # 批量取出\"hash2\"的key-k2 k3对应的value --方式1\n",
    "print(r.hmget(\"hash2\", [\"k2\", \"k3\"]))  # 批量取出\"hash2\"的key-k2 k3对应的value --方式2"
   ]
  },
  {
   "cell_type": "code",
   "execution_count": null,
   "metadata": {},
   "outputs": [],
   "source": []
  }
 ],
 "metadata": {
  "kernelspec": {
   "display_name": "Python 3",
   "language": "python",
   "name": "python3"
  },
  "language_info": {
   "codemirror_mode": {
    "name": "ipython",
    "version": 3
   },
   "file_extension": ".py",
   "mimetype": "text/x-python",
   "name": "python",
   "nbconvert_exporter": "python",
   "pygments_lexer": "ipython3",
   "version": "3.7.4"
  }
 },
 "nbformat": 4,
 "nbformat_minor": 2
}
